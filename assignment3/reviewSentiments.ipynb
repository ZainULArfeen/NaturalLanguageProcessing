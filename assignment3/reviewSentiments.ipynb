{
 "cells": [
  {
   "cell_type": "code",
   "execution_count": 1,
   "metadata": {},
   "outputs": [],
   "source": [
    "import numpy as np\n",
    "import pandas as pd\n",
    "import string"
   ]
  },
  {
   "cell_type": "code",
   "execution_count": 2,
   "metadata": {},
   "outputs": [
    {
     "data": {
      "text/html": [
       "<div>\n",
       "<style scoped>\n",
       "    .dataframe tbody tr th:only-of-type {\n",
       "        vertical-align: middle;\n",
       "    }\n",
       "\n",
       "    .dataframe tbody tr th {\n",
       "        vertical-align: top;\n",
       "    }\n",
       "\n",
       "    .dataframe thead th {\n",
       "        text-align: right;\n",
       "    }\n",
       "</style>\n",
       "<table border=\"1\" class=\"dataframe\">\n",
       "  <thead>\n",
       "    <tr style=\"text-align: right;\">\n",
       "      <th></th>\n",
       "      <th>product</th>\n",
       "      <th>productname</th>\n",
       "      <th>productprice</th>\n",
       "      <th>productreview</th>\n",
       "    </tr>\n",
       "  </thead>\n",
       "  <tbody>\n",
       "    <tr>\n",
       "      <th>0</th>\n",
       "      <td>product1</td>\n",
       "      <td>Full Sleeves T shirt for men</td>\n",
       "      <td>Rs. 410</td>\n",
       "      <td>NaN</td>\n",
       "    </tr>\n",
       "    <tr>\n",
       "      <th>1</th>\n",
       "      <td>product1</td>\n",
       "      <td>Full Sleeves T shirt for men</td>\n",
       "      <td>Rs. 410</td>\n",
       "      <td>46/58 Ratings61100</td>\n",
       "    </tr>\n",
       "    <tr>\n",
       "      <th>2</th>\n",
       "      <td>product1</td>\n",
       "      <td>Full Sleeves T shirt for men</td>\n",
       "      <td>Rs. 410</td>\n",
       "      <td>it's really mazing shirt I really liked it tha...</td>\n",
       "    </tr>\n",
       "    <tr>\n",
       "      <th>3</th>\n",
       "      <td>product1</td>\n",
       "      <td>Full Sleeves T shirt for men</td>\n",
       "      <td>Rs. 410</td>\n",
       "      <td>It was the most bad decision by me to order th...</td>\n",
       "    </tr>\n",
       "    <tr>\n",
       "      <th>4</th>\n",
       "      <td>product1</td>\n",
       "      <td>Full Sleeves T shirt for men</td>\n",
       "      <td>Rs. 410</td>\n",
       "      <td>The Fabric are not Goodbut shirt is nice</td>\n",
       "    </tr>\n",
       "  </tbody>\n",
       "</table>\n",
       "</div>"
      ],
      "text/plain": [
       "    product                   productname  productprice  \\\n",
       "0  product1  Full Sleeves T shirt for men       Rs. 410   \n",
       "1  product1  Full Sleeves T shirt for men       Rs. 410   \n",
       "2  product1  Full Sleeves T shirt for men       Rs. 410   \n",
       "3  product1  Full Sleeves T shirt for men       Rs. 410   \n",
       "4  product1  Full Sleeves T shirt for men       Rs. 410   \n",
       "\n",
       "                                      productreview   \n",
       "0                                                NaN  \n",
       "1                                 46/58 Ratings61100  \n",
       "2  it's really mazing shirt I really liked it tha...  \n",
       "3  It was the most bad decision by me to order th...  \n",
       "4           The Fabric are not Goodbut shirt is nice  "
      ]
     },
     "execution_count": 2,
     "metadata": {},
     "output_type": "execute_result"
    }
   ],
   "source": [
    "df = pd.read_csv('darazData.csv')\n",
    "df.head()"
   ]
  },
  {
   "cell_type": "code",
   "execution_count": 3,
   "metadata": {},
   "outputs": [
    {
     "data": {
      "text/plain": [
       "(276, 4)"
      ]
     },
     "execution_count": 3,
     "metadata": {},
     "output_type": "execute_result"
    }
   ],
   "source": [
    "df.shape"
   ]
  },
  {
   "cell_type": "code",
   "execution_count": 4,
   "metadata": {},
   "outputs": [
    {
     "name": "stdout",
     "output_type": "stream",
     "text": [
      "<class 'pandas.core.frame.DataFrame'>\n",
      "RangeIndex: 276 entries, 0 to 275\n",
      "Data columns (total 4 columns):\n",
      " #   Column           Non-Null Count  Dtype \n",
      "---  ------           --------------  ----- \n",
      " 0   product          276 non-null    object\n",
      " 1   productname      276 non-null    object\n",
      " 2    productprice    276 non-null    object\n",
      " 3    productreview   238 non-null    object\n",
      "dtypes: object(4)\n",
      "memory usage: 8.8+ KB\n",
      "None\n"
     ]
    }
   ],
   "source": [
    "null_values = df.info()\n",
    "print(null_values)"
   ]
  },
  {
   "cell_type": "code",
   "execution_count": 5,
   "metadata": {},
   "outputs": [
    {
     "data": {
      "text/html": [
       "<div>\n",
       "<style scoped>\n",
       "    .dataframe tbody tr th:only-of-type {\n",
       "        vertical-align: middle;\n",
       "    }\n",
       "\n",
       "    .dataframe tbody tr th {\n",
       "        vertical-align: top;\n",
       "    }\n",
       "\n",
       "    .dataframe thead th {\n",
       "        text-align: right;\n",
       "    }\n",
       "</style>\n",
       "<table border=\"1\" class=\"dataframe\">\n",
       "  <thead>\n",
       "    <tr style=\"text-align: right;\">\n",
       "      <th></th>\n",
       "      <th>product</th>\n",
       "      <th>productname</th>\n",
       "      <th>productprice</th>\n",
       "      <th>productreview</th>\n",
       "    </tr>\n",
       "  </thead>\n",
       "  <tbody>\n",
       "    <tr>\n",
       "      <th>count</th>\n",
       "      <td>276</td>\n",
       "      <td>276</td>\n",
       "      <td>276</td>\n",
       "      <td>238</td>\n",
       "    </tr>\n",
       "    <tr>\n",
       "      <th>unique</th>\n",
       "      <td>66</td>\n",
       "      <td>35</td>\n",
       "      <td>29</td>\n",
       "      <td>127</td>\n",
       "    </tr>\n",
       "    <tr>\n",
       "      <th>top</th>\n",
       "      <td>product5</td>\n",
       "      <td>Customized Picture Shirt - Full Sleeve</td>\n",
       "      <td>Rs. 499</td>\n",
       "      <td>thank you so much your feedback valuable for us</td>\n",
       "    </tr>\n",
       "    <tr>\n",
       "      <th>freq</th>\n",
       "      <td>11</td>\n",
       "      <td>33</td>\n",
       "      <td>43</td>\n",
       "      <td>6</td>\n",
       "    </tr>\n",
       "  </tbody>\n",
       "</table>\n",
       "</div>"
      ],
      "text/plain": [
       "         product                             productname  productprice  \\\n",
       "count        276                                     276           276   \n",
       "unique        66                                      35            29   \n",
       "top     product5  Customized Picture Shirt - Full Sleeve       Rs. 499   \n",
       "freq          11                                      33            43   \n",
       "\n",
       "                                         productreview   \n",
       "count                                               238  \n",
       "unique                                              127  \n",
       "top     thank you so much your feedback valuable for us  \n",
       "freq                                                  6  "
      ]
     },
     "execution_count": 5,
     "metadata": {},
     "output_type": "execute_result"
    }
   ],
   "source": [
    "df.describe()"
   ]
  },
  {
   "cell_type": "code",
   "execution_count": 6,
   "metadata": {},
   "outputs": [
    {
     "data": {
      "text/plain": [
       "0                           Full Sleeves T shirt for men\n",
       "1                           Full Sleeves T shirt for men\n",
       "2                           Full Sleeves T shirt for men\n",
       "3                           Full Sleeves T shirt for men\n",
       "4                           Full Sleeves T shirt for men\n",
       "                             ...                        \n",
       "271    KK BRANDS full sleeve T shirts new style code ...\n",
       "272    KK BRANDS full sleeve T shirts new style code ...\n",
       "273        Thumb hoodie T-Shirt best winter item for men\n",
       "274        Thumb hoodie T-Shirt best winter item for men\n",
       "275        Thumb hoodie T-Shirt best winter item for men\n",
       "Name: productname, Length: 276, dtype: object"
      ]
     },
     "execution_count": 6,
     "metadata": {},
     "output_type": "execute_result"
    }
   ],
   "source": [
    "df['productname']"
   ]
  },
  {
   "cell_type": "code",
   "execution_count": 7,
   "metadata": {},
   "outputs": [
    {
     "data": {
      "text/plain": [
       "0        product1\n",
       "1        product1\n",
       "2        product1\n",
       "3        product1\n",
       "4        product1\n",
       "          ...    \n",
       "271    product167\n",
       "272    product167\n",
       "273    product168\n",
       "274    product168\n",
       "275    product168\n",
       "Name: product, Length: 276, dtype: object"
      ]
     },
     "execution_count": 7,
     "metadata": {},
     "output_type": "execute_result"
    }
   ],
   "source": [
    "df['product']"
   ]
  },
  {
   "cell_type": "code",
   "execution_count": null,
   "metadata": {},
   "outputs": [],
   "source": [
    "data_frame = pd.DataFrame()"
   ]
  },
  {
   "cell_type": "code",
   "execution_count": 8,
   "metadata": {},
   "outputs": [],
   "source": [
    "def remove_punctuation(text):\n",
    "    no_punc = ''.join([t for t in text if t not in string.punctuation])\n",
    "    return no_punc"
   ]
  },
  {
   "cell_type": "code",
   "execution_count": null,
   "metadata": {},
   "outputs": [],
   "source": []
  },
  {
   "cell_type": "code",
   "execution_count": null,
   "metadata": {},
   "outputs": [],
   "source": []
  }
 ],
 "metadata": {
  "kernelspec": {
   "display_name": "Python 3",
   "language": "python",
   "name": "python3"
  },
  "language_info": {
   "codemirror_mode": {
    "name": "ipython",
    "version": 3
   },
   "file_extension": ".py",
   "mimetype": "text/x-python",
   "name": "python",
   "nbconvert_exporter": "python",
   "pygments_lexer": "ipython3",
   "version": "3.8.3"
  }
 },
 "nbformat": 4,
 "nbformat_minor": 4
}
